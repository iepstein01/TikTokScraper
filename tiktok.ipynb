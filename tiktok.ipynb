{
 "cells": [
  {
   "cell_type": "code",
   "execution_count": 59,
   "metadata": {},
   "outputs": [],
   "source": [
    "from selenium import webdriver\n",
    "from selenium.webdriver.support.ui import WebDriverWait\n",
    "from selenium.webdriver.common.by import By\n",
    "from selenium.webdriver.support import expected_conditions as EC\n",
    "import time\n",
    "import re"
   ]
  },
  {
   "cell_type": "code",
   "execution_count": 3,
   "metadata": {},
   "outputs": [],
   "source": [
    "class User:\n",
    "    def __init__(self, tags) -> None:\n",
    "        self.tags = tags"
   ]
  },
  {
   "cell_type": "code",
   "execution_count": 85,
   "metadata": {},
   "outputs": [],
   "source": [
    "class TikTokScraper:\n",
    "    def __init__(self) -> None:\n",
    "        self.driver = None\n",
    "\n",
    "    def create_and_run_scraper(self, options):\n",
    "        self.driver = webdriver.Chrome(options=options)\n",
    "        self.driver.get(\"https://www.tiktok.com/foryou\")\n",
    "        self.click_first_video()\n",
    "    \n",
    "    def quit_driver(self):\n",
    "        self.driver.quit()\n",
    "\n",
    "    def click_first_video(self):\n",
    "        WebDriverWait(driver=self.driver, timeout=60).until(\n",
    "            EC.element_to_be_clickable(\n",
    "                (\n",
    "                    By.XPATH,\n",
    "                    \"//*[@id=\\\"loginContainer\\\"]/div/div/div/div[2]\"\n",
    "                )\n",
    "            )\n",
    "        )\n",
    "        self.driver.execute_script(\"document.evaluate('/html/body/div[5]', document, null, XPathResult.FIRST_ORDERED_NODE_TYPE, null).singleNodeValue.style.display='none';\")\n",
    "        self.driver.execute_script(\"console.log('test');\")\n",
    "        WebDriverWait(driver=self.driver, timeout=60).until(\n",
    "            EC.element_to_be_clickable(\n",
    "                (\n",
    "                    By.XPATH,\n",
    "                    '//*[@id=\"app\"]/div[2]/div[2]/div[1]/div[1]/div/div[2]/div[1]',\n",
    "                )\n",
    "            )\n",
    "        ).click()\n",
    "        WebDriverWait(self.driver, 60).until(\n",
    "            EC.element_to_be_clickable(\n",
    "                (\n",
    "                    By.XPATH,\n",
    "                    \"//*[@id=\\\"tiktok-verify-ele\\\"]/div/div[4]/div/a[1]\"\n",
    "                )\n",
    "            )\n",
    "        )\n",
    "        self.driver.execute_script(\"document.getElementById('tiktok-verify-ele').style.display='none';\")\n",
    "        # WebDriverWait(self.driver, 60).until(\n",
    "        #     EC.element_to_be_clickable(\n",
    "        #         (\n",
    "        #             By.XPATH,\n",
    "        #             '//*[@id=\"app\"]/div[2]/div[3]/div[2]/div[2]/div[2]/div[1]/div[1]/button[1]',\n",
    "        #         )\n",
    "        #     )\n",
    "        # )"
   ]
  },
  {
   "cell_type": "code",
   "execution_count": 76,
   "metadata": {},
   "outputs": [],
   "source": [
    "options = webdriver.ChromeOptions()\n",
    "options.add_argument(\"--disable-notifications\")\n",
    "options.add_argument(\"--disable-infobars\")\n",
    "options.add_experimental_option(\"excludeSwitches\", [\"enable-automation\"])\n",
    "# options.add_argument(\"--headless=new\")"
   ]
  },
  {
   "cell_type": "code",
   "execution_count": 62,
   "metadata": {},
   "outputs": [],
   "source": [
    "user = User(tags=[\"cats\", \"dogs\", \"animals\"])"
   ]
  },
  {
   "cell_type": "code",
   "execution_count": 86,
   "metadata": {},
   "outputs": [],
   "source": [
    "scraper = TikTokScraper()\n",
    "scraper.create_and_run_scraper(options=options)"
   ]
  },
  {
   "cell_type": "code",
   "execution_count": 83,
   "metadata": {},
   "outputs": [],
   "source": [
    "scraper.driver.execute_script(\"document.getElementById('tiktok-verify-ele').style.display='none';\")"
   ]
  },
  {
   "cell_type": "code",
   "execution_count": 84,
   "metadata": {},
   "outputs": [],
   "source": [
    "scraper.quit_driver()"
   ]
  }
 ],
 "metadata": {
  "kernelspec": {
   "display_name": "base",
   "language": "python",
   "name": "python3"
  },
  "language_info": {
   "codemirror_mode": {
    "name": "ipython",
    "version": 3
   },
   "file_extension": ".py",
   "mimetype": "text/x-python",
   "name": "python",
   "nbconvert_exporter": "python",
   "pygments_lexer": "ipython3",
   "version": "3.10.12"
  }
 },
 "nbformat": 4,
 "nbformat_minor": 2
}

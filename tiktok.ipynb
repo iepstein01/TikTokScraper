{
 "cells": [
  {
   "cell_type": "code",
   "execution_count": 59,
   "metadata": {},
   "outputs": [],
   "source": [
    "from selenium import webdriver\n",
    "from selenium.webdriver.support.ui import WebDriverWait\n",
    "from selenium.webdriver.common.by import By\n",
    "from selenium.webdriver.support import expected_conditions as EC\n",
    "import time\n",
    "import re"
   ]
  },
  {
   "cell_type": "code",
   "execution_count": 3,
   "metadata": {},
   "outputs": [],
   "source": [
    "class User:\n",
    "    def __init__(self, tags) -> None:\n",
    "        self.tags = tags"
   ]
  },
  {
   "cell_type": "code",
   "execution_count": 92,
   "metadata": {},
   "outputs": [],
   "source": [
    "class TikTokScraper:\n",
    "    def __init__(self) -> None:\n",
    "        self.driver = None\n",
    "\n",
    "    def create_and_run_scraper(self, options):\n",
    "        self.driver = webdriver.Chrome(options=options)\n",
    "        self.driver.get(\"https://www.tiktok.com/foryou\")\n",
    "        self.click_first_video()\n",
    "    \n",
    "    def quit_driver(self):\n",
    "        self.driver.quit()\n",
    "\n",
    "    def click_first_video(self):\n",
    "        WebDriverWait(driver=self.driver, timeout=60).until(\n",
    "            EC.element_to_be_clickable(\n",
    "                (\n",
    "                    By.XPATH,\n",
    "                    \"//*[@id=\\\"loginContainer\\\"]/div/div/div/div[2]\"\n",
    "                )\n",
    "            )\n",
    "        )\n",
    "        # hide login (I don't know the consequences of this)\n",
    "        self.driver.execute_script(\"document.evaluate('/html/body/div[5]', document, null, XPathResult.FIRST_ORDERED_NODE_TYPE, null).singleNodeValue.style.display='none';\")\n",
    "        WebDriverWait(driver=self.driver, timeout=60).until(\n",
    "            EC.element_to_be_clickable(\n",
    "                (\n",
    "                    By.XPATH,\n",
    "                    '//*[@id=\"app\"]/div[2]/div[2]/div[1]/div[1]/div/div[2]/div[1]',\n",
    "                )\n",
    "            )\n",
    "        ).click()\n",
    "        WebDriverWait(self.driver, 60).until(\n",
    "            EC.element_to_be_clickable(\n",
    "                (\n",
    "                    By.XPATH,\n",
    "                    \"//*[@id=\\\"tiktok-verify-ele\\\"]/div/div[4]/div/a[1]\"\n",
    "                )\n",
    "            )\n",
    "        )\n",
    "        # hide captcha (I don't know the consequences of this)\n",
    "        self.driver.execute_script(\"document.getElementById('tiktok-verify-ele').style.display='none';\")\n",
    "\n",
    "    # Gets and returns tags associated with the current video\n",
    "    def get_current_video_tags(driver):\n",
    "        # wait until comment section is loaded\n",
    "        WebDriverWait(driver, timeout=60).until(\n",
    "            EC.presence_of_element_located(\n",
    "                (By.XPATH, '//*[@id=\"app\"]/div[2]/div[3]/div[2]/div[2]/div[1]')\n",
    "            )\n",
    "        )\n",
    "\n",
    "        comment_parent_element = driver.find_element(\n",
    "            By.XPATH, '//*[@id=\"app\"]/div[2]/div[3]/div[2]/div[2]/div[1]'\n",
    "        )\n",
    "        comment_parent_children = comment_parent_element.find_elements(By.TAG_NAME, \"a\")\n",
    "        comment_categories = [\n",
    "            child.get_attribute(\"href\") for child in comment_parent_children\n",
    "        ]\n",
    "        tags = []\n",
    "        for category in comment_categories:\n",
    "            if \"tag\" in category:\n",
    "                tag = category.split(\"/\")[-1]\n",
    "                tags.append(tag)\n",
    "\n",
    "        return tags\n",
    "\n",
    "    def watch_n_minutes(low, high):\n",
    "        return np.random.randint(low=low, high=high)\n",
    "\n",
    "    def watch_n_videos(self, n, user, tags):\n",
    "        for i in range(n):\n",
    "            watch_or_skip = watch_or_skip(self.driver, user, tags)\n",
    "            if watch_or_skip:\n",
    "                pass\n",
    "            time.sleep(5)\n",
    "            self.next_video()\n",
    "\n",
    "    def get_video_length(driver):\n",
    "        video_length = str(\n",
    "            WebDriverWait(driver=driver, timeout=60)\n",
    "            .until(\n",
    "                EC.presence_of_element_located(\n",
    "                    (\n",
    "                        By.XPATH,\n",
    "                        '//*[@id=\"app\"]/div[2]/div[3]/div[1]/div[2]/div[2]/div[2]',\n",
    "                    )\n",
    "                )\n",
    "            )\n",
    "            .get_attribute(\"innerHTML\")\n",
    "        )\n",
    "        video_length = video_length[video_length.index(\"/\") + 1 : len(video_length)]\n",
    "        if video_length[0:1] == \"0\":\n",
    "            video_length = video_length[1 : len(video_length)]\n",
    "        video_minutes = video_length[0 : video_length.index(\":\")]\n",
    "        video_seconds = video_length[video_length.index(\":\") + 1 : len(video_length)]\n",
    "        video_length_in_seconds = int(video_minutes) * 60 + int(video_seconds)\n",
    "        return video_length_in_seconds"
   ]
  },
  {
   "cell_type": "code",
   "execution_count": 89,
   "metadata": {},
   "outputs": [],
   "source": [
    "options = webdriver.ChromeOptions()\n",
    "options.add_argument(\"--disable-notifications\")\n",
    "options.add_argument(\"--disable-infobars\")\n",
    "options.add_experimental_option(\"excludeSwitches\", [\"enable-automation\"])\n",
    "# options.add_argument(\"--headless=new\")"
   ]
  },
  {
   "cell_type": "code",
   "execution_count": 62,
   "metadata": {},
   "outputs": [],
   "source": [
    "user = User(tags=[\"cats\", \"dogs\", \"animals\"])"
   ]
  },
  {
   "cell_type": "code",
   "execution_count": 90,
   "metadata": {},
   "outputs": [],
   "source": [
    "scraper = TikTokScraper()\n",
    "scraper.create_and_run_scraper(options=options)"
   ]
  },
  {
   "cell_type": "code",
   "execution_count": 91,
   "metadata": {},
   "outputs": [],
   "source": [
    "scraper.quit_driver()"
   ]
  }
 ],
 "metadata": {
  "kernelspec": {
   "display_name": "base",
   "language": "python",
   "name": "python3"
  },
  "language_info": {
   "codemirror_mode": {
    "name": "ipython",
    "version": 3
   },
   "file_extension": ".py",
   "mimetype": "text/x-python",
   "name": "python",
   "nbconvert_exporter": "python",
   "pygments_lexer": "ipython3",
   "version": "3.10.12"
  }
 },
 "nbformat": 4,
 "nbformat_minor": 2
}
